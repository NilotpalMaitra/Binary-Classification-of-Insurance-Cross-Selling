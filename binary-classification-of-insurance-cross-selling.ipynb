{
 "cells": [
  {
   "cell_type": "code",
   "execution_count": 1,
   "id": "1faa374a",
   "metadata": {
    "_cell_guid": "b1076dfc-b9ad-4769-8c92-a6c4dae69d19",
    "_uuid": "8f2839f25d086af736a60e9eeb907d3b93b6e0e5",
    "execution": {
     "iopub.execute_input": "2024-07-04T13:47:10.143142Z",
     "iopub.status.busy": "2024-07-04T13:47:10.142855Z",
     "iopub.status.idle": "2024-07-04T13:47:10.976797Z",
     "shell.execute_reply": "2024-07-04T13:47:10.975375Z"
    },
    "papermill": {
     "duration": 0.842036,
     "end_time": "2024-07-04T13:47:10.978910",
     "exception": false,
     "start_time": "2024-07-04T13:47:10.136874",
     "status": "completed"
    },
    "tags": []
   },
   "outputs": [
    {
     "name": "stdout",
     "output_type": "stream",
     "text": [
      "/kaggle/input/playground-series-s4e7/sample_submission.csv\n",
      "/kaggle/input/playground-series-s4e7/train.csv\n",
      "/kaggle/input/playground-series-s4e7/test.csv\n"
     ]
    }
   ],
   "source": [
    "# This Python 3 environment comes with many helpful analytics libraries installed\n",
    "# It is defined by the kaggle/python Docker image: https://github.com/kaggle/docker-python\n",
    "# For example, here's several helpful packages to load\n",
    "\n",
    "import numpy as np # linear algebra\n",
    "import pandas as pd # data processing, CSV file I/O (e.g. pd.read_csv)\n",
    "\n",
    "# Input data files are available in the read-only \"../input/\" directory\n",
    "# For example, running this (by clicking run or pressing Shift+Enter) will list all files under the input directory\n",
    "\n",
    "import os\n",
    "for dirname, _, filenames in os.walk('/kaggle/input'):\n",
    "    for filename in filenames:\n",
    "        print(os.path.join(dirname, filename))\n",
    "\n",
    "# You can write up to 20GB to the current directory (/kaggle/working/) that gets preserved as output when you create a version using \"Save & Run All\" \n",
    "# You can also write temporary files to /kaggle/temp/, but they won't be saved outside of the current session"
   ]
  },
  {
   "cell_type": "markdown",
   "id": "7c10afa0",
   "metadata": {
    "papermill": {
     "duration": 0.004498,
     "end_time": "2024-07-04T13:47:10.988361",
     "exception": false,
     "start_time": "2024-07-04T13:47:10.983863",
     "status": "completed"
    },
    "tags": []
   },
   "source": [
    "**IMPORT LIBRARIES**"
   ]
  },
  {
   "cell_type": "code",
   "execution_count": 2,
   "id": "eda648e3",
   "metadata": {
    "execution": {
     "iopub.execute_input": "2024-07-04T13:47:10.998874Z",
     "iopub.status.busy": "2024-07-04T13:47:10.998393Z",
     "iopub.status.idle": "2024-07-04T13:47:12.594886Z",
     "shell.execute_reply": "2024-07-04T13:47:12.593889Z"
    },
    "papermill": {
     "duration": 1.604286,
     "end_time": "2024-07-04T13:47:12.597167",
     "exception": false,
     "start_time": "2024-07-04T13:47:10.992881",
     "status": "completed"
    },
    "tags": []
   },
   "outputs": [],
   "source": [
    "import pandas as pd\n",
    "import numpy as np\n",
    "import matplotlib.pyplot as plt\n",
    "import seaborn as sns\n",
    "from sklearn.model_selection import train_test_split\n",
    "from sklearn.preprocessing import StandardScaler, OneHotEncoder\n",
    "from sklearn.compose import ColumnTransformer\n",
    "from sklearn.pipeline import Pipeline\n",
    "from sklearn.ensemble import RandomForestClassifier\n",
    "from sklearn.metrics import roc_auc_score\n"
   ]
  },
  {
   "cell_type": "markdown",
   "id": "ef2930da",
   "metadata": {
    "papermill": {
     "duration": 0.00454,
     "end_time": "2024-07-04T13:47:12.606710",
     "exception": false,
     "start_time": "2024-07-04T13:47:12.602170",
     "status": "completed"
    },
    "tags": []
   },
   "source": [
    "**LOADING THE DATA**"
   ]
  },
  {
   "cell_type": "code",
   "execution_count": 3,
   "id": "19e1a8d4",
   "metadata": {
    "execution": {
     "iopub.execute_input": "2024-07-04T13:47:12.617354Z",
     "iopub.status.busy": "2024-07-04T13:47:12.616635Z",
     "iopub.status.idle": "2024-07-04T13:47:46.075507Z",
     "shell.execute_reply": "2024-07-04T13:47:46.074601Z"
    },
    "papermill": {
     "duration": 33.470553,
     "end_time": "2024-07-04T13:47:46.081731",
     "exception": false,
     "start_time": "2024-07-04T13:47:12.611178",
     "status": "completed"
    },
    "tags": []
   },
   "outputs": [
    {
     "data": {
      "text/html": [
       "<div>\n",
       "<style scoped>\n",
       "    .dataframe tbody tr th:only-of-type {\n",
       "        vertical-align: middle;\n",
       "    }\n",
       "\n",
       "    .dataframe tbody tr th {\n",
       "        vertical-align: top;\n",
       "    }\n",
       "\n",
       "    .dataframe thead th {\n",
       "        text-align: right;\n",
       "    }\n",
       "</style>\n",
       "<table border=\"1\" class=\"dataframe\">\n",
       "  <thead>\n",
       "    <tr style=\"text-align: right;\">\n",
       "      <th></th>\n",
       "      <th>id</th>\n",
       "      <th>Gender</th>\n",
       "      <th>Age</th>\n",
       "      <th>Driving_License</th>\n",
       "      <th>Region_Code</th>\n",
       "      <th>Previously_Insured</th>\n",
       "      <th>Vehicle_Age</th>\n",
       "      <th>Vehicle_Damage</th>\n",
       "      <th>Annual_Premium</th>\n",
       "      <th>Policy_Sales_Channel</th>\n",
       "      <th>Vintage</th>\n",
       "      <th>Response</th>\n",
       "    </tr>\n",
       "  </thead>\n",
       "  <tbody>\n",
       "    <tr>\n",
       "      <th>0</th>\n",
       "      <td>0</td>\n",
       "      <td>Male</td>\n",
       "      <td>21</td>\n",
       "      <td>1</td>\n",
       "      <td>35.0</td>\n",
       "      <td>0</td>\n",
       "      <td>1-2 Year</td>\n",
       "      <td>Yes</td>\n",
       "      <td>65101.0</td>\n",
       "      <td>124.0</td>\n",
       "      <td>187</td>\n",
       "      <td>0</td>\n",
       "    </tr>\n",
       "    <tr>\n",
       "      <th>1</th>\n",
       "      <td>1</td>\n",
       "      <td>Male</td>\n",
       "      <td>43</td>\n",
       "      <td>1</td>\n",
       "      <td>28.0</td>\n",
       "      <td>0</td>\n",
       "      <td>&gt; 2 Years</td>\n",
       "      <td>Yes</td>\n",
       "      <td>58911.0</td>\n",
       "      <td>26.0</td>\n",
       "      <td>288</td>\n",
       "      <td>1</td>\n",
       "    </tr>\n",
       "    <tr>\n",
       "      <th>2</th>\n",
       "      <td>2</td>\n",
       "      <td>Female</td>\n",
       "      <td>25</td>\n",
       "      <td>1</td>\n",
       "      <td>14.0</td>\n",
       "      <td>1</td>\n",
       "      <td>&lt; 1 Year</td>\n",
       "      <td>No</td>\n",
       "      <td>38043.0</td>\n",
       "      <td>152.0</td>\n",
       "      <td>254</td>\n",
       "      <td>0</td>\n",
       "    </tr>\n",
       "    <tr>\n",
       "      <th>3</th>\n",
       "      <td>3</td>\n",
       "      <td>Female</td>\n",
       "      <td>35</td>\n",
       "      <td>1</td>\n",
       "      <td>1.0</td>\n",
       "      <td>0</td>\n",
       "      <td>1-2 Year</td>\n",
       "      <td>Yes</td>\n",
       "      <td>2630.0</td>\n",
       "      <td>156.0</td>\n",
       "      <td>76</td>\n",
       "      <td>0</td>\n",
       "    </tr>\n",
       "    <tr>\n",
       "      <th>4</th>\n",
       "      <td>4</td>\n",
       "      <td>Female</td>\n",
       "      <td>36</td>\n",
       "      <td>1</td>\n",
       "      <td>15.0</td>\n",
       "      <td>1</td>\n",
       "      <td>1-2 Year</td>\n",
       "      <td>No</td>\n",
       "      <td>31951.0</td>\n",
       "      <td>152.0</td>\n",
       "      <td>294</td>\n",
       "      <td>0</td>\n",
       "    </tr>\n",
       "  </tbody>\n",
       "</table>\n",
       "</div>"
      ],
      "text/plain": [
       "   id  Gender  Age  Driving_License  Region_Code  Previously_Insured  \\\n",
       "0   0    Male   21                1         35.0                   0   \n",
       "1   1    Male   43                1         28.0                   0   \n",
       "2   2  Female   25                1         14.0                   1   \n",
       "3   3  Female   35                1          1.0                   0   \n",
       "4   4  Female   36                1         15.0                   1   \n",
       "\n",
       "  Vehicle_Age Vehicle_Damage  Annual_Premium  Policy_Sales_Channel  Vintage  \\\n",
       "0    1-2 Year            Yes         65101.0                 124.0      187   \n",
       "1   > 2 Years            Yes         58911.0                  26.0      288   \n",
       "2    < 1 Year             No         38043.0                 152.0      254   \n",
       "3    1-2 Year            Yes          2630.0                 156.0       76   \n",
       "4    1-2 Year             No         31951.0                 152.0      294   \n",
       "\n",
       "   Response  \n",
       "0         0  \n",
       "1         1  \n",
       "2         0  \n",
       "3         0  \n",
       "4         0  "
      ]
     },
     "execution_count": 3,
     "metadata": {},
     "output_type": "execute_result"
    }
   ],
   "source": [
    "# Load the datasets\n",
    "train_data = pd.read_csv('/kaggle/input/playground-series-s4e7/train.csv')\n",
    "test_data = pd.read_csv('/kaggle/input/playground-series-s4e7/test.csv')\n",
    "\n",
    "# Display the first few rows of the train data\n",
    "train_data.head()\n"
   ]
  },
  {
   "cell_type": "code",
   "execution_count": 4,
   "id": "380b4fe2",
   "metadata": {
    "execution": {
     "iopub.execute_input": "2024-07-04T13:47:46.092641Z",
     "iopub.status.busy": "2024-07-04T13:47:46.092310Z",
     "iopub.status.idle": "2024-07-04T13:47:47.152272Z",
     "shell.execute_reply": "2024-07-04T13:47:47.151377Z"
    },
    "papermill": {
     "duration": 1.067622,
     "end_time": "2024-07-04T13:47:47.154293",
     "exception": false,
     "start_time": "2024-07-04T13:47:46.086671",
     "status": "completed"
    },
    "tags": []
   },
   "outputs": [
    {
     "data": {
      "image/png": "[encoded data removed]",
      "text/plain": [
       "<Figure size 1000x600 with 1 Axes>"
      ]
     },
     "metadata": {},
     "output_type": "display_data"
    }
   ],
   "source": [
    "import matplotlib.pyplot as plt\n",
    "import seaborn as sns\n",
    "\n",
    "def plot_column_distribution(df, column_name):\n",
    "    \"\"\"\n",
    "    Plot the distribution of a column in a DataFrame.\n",
    "    \n",
    "    Parameters:\n",
    "    df (pd.DataFrame): DataFrame containing the data.\n",
    "    column_name (str): Name of the column to plot.\n",
    "    \"\"\"\n",
    "    plt.figure(figsize=(10, 6))\n",
    "    sns.countplot(data=df, x=column_name, palette='viridis')\n",
    "    plt.title(f'Distribution of {column_name}')\n",
    "    plt.xlabel(column_name)\n",
    "    plt.ylabel('Count')\n",
    "    plt.show()\n",
    "\n",
    "# Example usage:\n",
    "plot_column_distribution(train_data, 'Response')\n"
   ]
  },
  {
   "cell_type": "code",
   "execution_count": 5,
   "id": "73d224b0",
   "metadata": {
    "execution": {
     "iopub.execute_input": "2024-07-04T13:47:47.166423Z",
     "iopub.status.busy": "2024-07-04T13:47:47.165729Z",
     "iopub.status.idle": "2024-07-04T13:47:58.167571Z",
     "shell.execute_reply": "2024-07-04T13:47:58.166597Z"
    },
    "papermill": {
     "duration": 11.010096,
     "end_time": "2024-07-04T13:47:58.169639",
     "exception": false,
     "start_time": "2024-07-04T13:47:47.159543",
     "status": "completed"
    },
    "tags": []
   },
   "outputs": [
    {
     "data": {
      "image/png": "[encoded data removed]",
      "text/plain": [
       "<Figure size 1000x600 with 1 Axes>"
      ]
     },
     "metadata": {},
     "output_type": "display_data"
    }
   ],
   "source": [
    "def plot_column_distribution(df, column_name):\n",
    "    \"\"\"\n",
    "    Plot the distribution of a column in a DataFrame.\n",
    "    \n",
    "    Parameters:\n",
    "    df (pd.DataFrame): DataFrame containing the data.\n",
    "    column_name (str): Name of the column to plot.\n",
    "    \"\"\"\n",
    "    plt.figure(figsize=(10, 6))\n",
    "    sns.countplot(data=df, x=column_name, palette='viridis')\n",
    "    plt.title(f'Distribution of {column_name}')\n",
    "    plt.xlabel(column_name)\n",
    "    plt.ylabel('Count')\n",
    "    plt.show()\n",
    "\n",
    "# Example usage:\n",
    "plot_column_distribution(train_data, 'Gender')"
   ]
  },
  {
   "cell_type": "code",
   "execution_count": 6,
   "id": "2caab41d",
   "metadata": {
    "execution": {
     "iopub.execute_input": "2024-07-04T13:47:58.181835Z",
     "iopub.status.busy": "2024-07-04T13:47:58.181541Z",
     "iopub.status.idle": "2024-07-04T13:48:09.320023Z",
     "shell.execute_reply": "2024-07-04T13:48:09.319117Z"
    },
    "papermill": {
     "duration": 11.146942,
     "end_time": "2024-07-04T13:48:09.322171",
     "exception": false,
     "start_time": "2024-07-04T13:47:58.175229",
     "status": "completed"
    },
    "tags": []
   },
   "outputs": [
    {
     "data": {
      "image/png": "[encoded data removed]",
      "text/plain": [
       "<Figure size 1000x600 with 1 Axes>"
      ]
     },
     "metadata": {},
     "output_type": "display_data"
    }
   ],
   "source": [
    "def plot_column_distribution(df, column_name):\n",
    "    \"\"\"\n",
    "    Plot the distribution of a column in a DataFrame.\n",
    "    \n",
    "    Parameters:\n",
    "    df (pd.DataFrame): DataFrame containing the data.\n",
    "    column_name (str): Name of the column to plot.\n",
    "    \"\"\"\n",
    "    plt.figure(figsize=(10, 6))\n",
    "    sns.countplot(data=df, x=column_name, palette='viridis')\n",
    "    plt.title(f'Distribution of {column_name}')\n",
    "    plt.xlabel(column_name)\n",
    "    plt.ylabel('Count')\n",
    "    plt.show()\n",
    "\n",
    "# Example usage:\n",
    "plot_column_distribution(train_data, 'Vehicle_Age')"
   ]
  },
  {
   "cell_type": "code",
   "execution_count": 7,
   "id": "dad444cc",
   "metadata": {
    "execution": {
     "iopub.execute_input": "2024-07-04T13:48:09.335534Z",
     "iopub.status.busy": "2024-07-04T13:48:09.335214Z",
     "iopub.status.idle": "2024-07-04T13:48:10.674286Z",
     "shell.execute_reply": "2024-07-04T13:48:10.673391Z"
    },
    "papermill": {
     "duration": 1.348423,
     "end_time": "2024-07-04T13:48:10.676875",
     "exception": false,
     "start_time": "2024-07-04T13:48:09.328452",
     "status": "completed"
    },
    "tags": []
   },
   "outputs": [
    {
     "data": {
      "image/png": "[encoded data removed]",
      "text/plain": [
       "<Figure size 1500x1000 with 2 Axes>"
      ]
     },
     "metadata": {},
     "output_type": "display_data"
    }
   ],
   "source": [
    "def plot_selected_numerical_boxplots(df, features):\n",
    "    \"\"\"\n",
    "    Plot boxplots for selected numerical features in a DataFrame.\n",
    "    \n",
    "    Parameters:\n",
    "    df (pd.DataFrame): DataFrame containing the data.\n",
    "    features (list): List of column names to plot.\n",
    "    \"\"\"\n",
    "    plt.figure(figsize=(15, 10))\n",
    "    \n",
    "    for i, feature in enumerate(features):\n",
    "        plt.subplot(len(features), 1, i + 1)\n",
    "        sns.boxplot(x=df[feature])\n",
    "        plt.title(f'Boxplot of {feature}')\n",
    "        plt.tight_layout()\n",
    "        \n",
    "    plt.show()\n",
    "\n",
    "# Define the features to plot\n",
    "features_to_plot = ['Region_Code', 'Policy_Sales_Channel']\n",
    "\n",
    "# Call the function\n",
    "plot_selected_numerical_boxplots(train_data, features_to_plot)"
   ]
  },
  {
   "cell_type": "markdown",
   "id": "fb485ebc",
   "metadata": {
    "papermill": {
     "duration": 0.006077,
     "end_time": "2024-07-04T13:48:10.689473",
     "exception": false,
     "start_time": "2024-07-04T13:48:10.683396",
     "status": "completed"
    },
    "tags": []
   },
   "source": [
    "**DATA EXPLORATION AND CLEANING**"
   ]
  },
  {
   "cell_type": "code",
   "execution_count": 8,
   "id": "7e700837",
   "metadata": {
    "execution": {
     "iopub.execute_input": "2024-07-04T13:48:10.703023Z",
     "iopub.status.busy": "2024-07-04T13:48:10.702732Z",
     "iopub.status.idle": "2024-07-04T13:48:17.228976Z",
     "shell.execute_reply": "2024-07-04T13:48:17.227974Z"
    },
    "papermill": {
     "duration": 6.535509,
     "end_time": "2024-07-04T13:48:17.231151",
     "exception": false,
     "start_time": "2024-07-04T13:48:10.695642",
     "status": "completed"
    },
    "tags": []
   },
   "outputs": [
    {
     "name": "stdout",
     "output_type": "stream",
     "text": [
      "<class 'pandas.core.frame.DataFrame'>\n",
      "RangeIndex: 11504798 entries, 0 to 11504797\n",
      "Data columns (total 12 columns):\n",
      " #   Column                Dtype  \n",
      "---  ------                -----  \n",
      " 0   id                    int64  \n",
      " 1   Gender                object \n",
      " 2   Age                   int64  \n",
      " 3   Driving_License       int64  \n",
      " 4   Region_Code           float64\n",
      " 5   Previously_Insured    int64  \n",
      " 6   Vehicle_Age           object \n",
      " 7   Vehicle_Damage        object \n",
      " 8   Annual_Premium        float64\n",
      " 9   Policy_Sales_Channel  float64\n",
      " 10  Vintage               int64  \n",
      " 11  Response              int64  \n",
      "dtypes: float64(3), int64(6), object(3)\n",
      "memory usage: 1.0+ GB\n"
     ]
    }
   ],
   "source": [
    "# Check for missing values\n",
    "train_data.isnull().sum()\n",
    "\n",
    "# Check basic statistics\n",
    "train_data.describe()\n",
    "\n",
    "# Check the data types\n",
    "train_data.info()\n"
   ]
  },
  {
   "cell_type": "markdown",
   "id": "ae098a51",
   "metadata": {
    "papermill": {
     "duration": 0.006072,
     "end_time": "2024-07-04T13:48:17.243758",
     "exception": false,
     "start_time": "2024-07-04T13:48:17.237686",
     "status": "completed"
    },
    "tags": []
   },
   "source": [
    "**PREPROCESSING**"
   ]
  },
  {
   "cell_type": "code",
   "execution_count": 9,
   "id": "8dc1dd89",
   "metadata": {
    "execution": {
     "iopub.execute_input": "2024-07-04T13:48:17.258632Z",
     "iopub.status.busy": "2024-07-04T13:48:17.258300Z",
     "iopub.status.idle": "2024-07-04T13:48:18.772216Z",
     "shell.execute_reply": "2024-07-04T13:48:18.771390Z"
    },
    "papermill": {
     "duration": 1.523708,
     "end_time": "2024-07-04T13:48:18.774587",
     "exception": false,
     "start_time": "2024-07-04T13:48:17.250879",
     "status": "completed"
    },
    "tags": []
   },
   "outputs": [],
   "source": [
    "# Separate features and target variable from training data\n",
    "X = train_data.drop(columns=['id', 'Response'])\n",
    "y = train_data['Response']\n",
    "\n",
    "# For the test set, we only need to drop the 'id' column\n",
    "X_test = test_data.drop(columns=['id'])\n",
    "\n",
    "# Identify categorical and numerical columns\n",
    "categorical_cols = X.select_dtypes(include=['object']).columns\n",
    "numerical_cols = X.select_dtypes(include=['number']).columns\n",
    "\n",
    "# Preprocessing for numerical data\n",
    "numerical_transformer = StandardScaler()\n",
    "\n",
    "# Preprocessing for categorical data\n",
    "categorical_transformer = OneHotEncoder(handle_unknown='ignore')\n",
    "\n",
    "# Bundle preprocessing for numerical and categorical data\n",
    "preprocessor = ColumnTransformer(\n",
    "    transformers=[\n",
    "        ('num', numerical_transformer, numerical_cols),\n",
    "        ('cat', categorical_transformer, categorical_cols)\n",
    "    ])\n",
    "\n",
    "# Define the model\n",
    "model = RandomForestClassifier(n_estimators=100, random_state=42)\n",
    "\n",
    "# Create and evaluate the pipeline\n",
    "clf = Pipeline(steps=[('preprocessor', preprocessor),\n",
    "                      ('classifier', model)])\n"
   ]
  },
  {
   "cell_type": "markdown",
   "id": "cb783ca4",
   "metadata": {
    "papermill": {
     "duration": 0.0062,
     "end_time": "2024-07-04T13:48:18.787380",
     "exception": false,
     "start_time": "2024-07-04T13:48:18.781180",
     "status": "completed"
    },
    "tags": []
   },
   "source": [
    "**MODEL TRAINING AND EVALUATION**"
   ]
  },
  {
   "cell_type": "code",
   "execution_count": 10,
   "id": "5a53a305",
   "metadata": {
    "execution": {
     "iopub.execute_input": "2024-07-04T13:48:18.801076Z",
     "iopub.status.busy": "2024-07-04T13:48:18.800782Z",
     "iopub.status.idle": "2024-07-04T14:41:36.636654Z",
     "shell.execute_reply": "2024-07-04T14:41:36.635676Z"
    },
    "papermill": {
     "duration": 3197.852167,
     "end_time": "2024-07-04T14:41:36.645826",
     "exception": false,
     "start_time": "2024-07-04T13:48:18.793659",
     "status": "completed"
    },
    "tags": []
   },
   "outputs": [
    {
     "name": "stdout",
     "output_type": "stream",
     "text": [
      "Validation ROC AUC: 0.8446248153594871\n"
     ]
    }
   ],
   "source": [
    "# Split the data\n",
    "X_train, X_val, y_train, y_val = train_test_split(X, y, test_size=0.2, random_state=42)\n",
    "\n",
    "# Fit the model\n",
    "clf.fit(X_train, y_train)\n",
    "\n",
    "# Make predictions\n",
    "y_pred_proba = clf.predict_proba(X_val)[:, 1]\n",
    "\n",
    "# Evaluate the model\n",
    "roc_auc = roc_auc_score(y_val, y_pred_proba)\n",
    "print(f'Validation ROC AUC: {roc_auc}')\n"
   ]
  },
  {
   "cell_type": "code",
   "execution_count": 11,
   "id": "4fd542f1",
   "metadata": {
    "execution": {
     "iopub.execute_input": "2024-07-04T14:41:36.660065Z",
     "iopub.status.busy": "2024-07-04T14:41:36.659540Z",
     "iopub.status.idle": "2024-07-04T14:49:16.633765Z",
     "shell.execute_reply": "2024-07-04T14:49:16.632744Z"
    },
    "papermill": {
     "duration": 459.983914,
     "end_time": "2024-07-04T14:49:16.636251",
     "exception": false,
     "start_time": "2024-07-04T14:41:36.652337",
     "status": "completed"
    },
    "tags": []
   },
   "outputs": [],
   "source": [
    "# Predict probabilities on the test set\n",
    "test_proba = clf.predict_proba(X_test)[:, 1]\n",
    "\n",
    "# Create submission DataFrame\n",
    "submission = pd.DataFrame({'id': test_data['id'], 'Response': test_proba})\n",
    "\n",
    "# Save to CSV\n",
    "submission.to_csv('submission.csv', index=False)\n"
   ]
  }
 ],
 "metadata": {
  "kaggle": {
   "accelerator": "gpu",
   "dataSources": [
    {
     "databundleVersionId": 8930475,
     "sourceId": 73291,
     "sourceType": "competition"
    }
   ],
   "dockerImageVersionId": 30733,
   "isGpuEnabled": true,
   "isInternetEnabled": true,
   "language": "python",
   "sourceType": "notebook"
  },
  "kernelspec": {
   "display_name": "Python 3",
   "language": "python",
   "name": "python3"
  },
  "language_info": {
   "codemirror_mode": {
    "name": "ipython",
    "version": 3
   },
   "file_extension": ".py",
   "mimetype": "text/x-python",
   "name": "python",
   "nbconvert_exporter": "python",
   "pygments_lexer": "ipython3",
   "version": "3.10.13"
  },
  "papermill": {
   "default_parameters": {},
   "duration": 3731.204451,
   "end_time": "2024-07-04T14:49:18.574691",
   "environment_variables": {},
   "exception": null,
   "input_path": "__notebook__.ipynb",
   "output_path": "__notebook__.ipynb",
   "parameters": {},
   "start_time": "2024-07-04T13:47:07.370240",
   "version": "2.5.0"
  }
 },
 "nbformat": 4,
 "nbformat_minor": 5
}
